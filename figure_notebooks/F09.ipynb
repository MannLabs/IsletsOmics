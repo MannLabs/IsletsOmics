{
 "cells": [
  {
   "cell_type": "code",
   "execution_count": 3,
   "metadata": {},
   "outputs": [
    {
     "name": "stdout",
     "output_type": "stream",
     "text": [
      "The autoreload extension is already loaded. To reload it, use:\n",
      "  %reload_ext autoreload\n"
     ]
    }
   ],
   "source": [
    "%load_ext autoreload\n",
    "%autoreload 2\n",
    "\n",
    "import sys\n",
    "\n",
    "import pandas as pd\n",
    "import numpy as np\n",
    "\n",
    "import matplotlib.pyplot as plt\n",
    "\n",
    "# get data\n",
    "data = pd.read_pickle(\"./data/datasets/islets_rna_prot_dataset.pkl\")\n",
    "sample_metadata = pd.read_pickle(\"./data/datasets/islets_rna_prot_sample_metadata.pkl\")\n",
    "feature_metadata = pd.read_pickle(\"./data/datasets/islets_rna_prot_feature_metadata.pkl\")\n",
    "\n",
    "sys.path.append(\"src.py\")\n",
    "from src import Utils"
   ]
  },
  {
   "cell_type": "markdown",
   "metadata": {},
   "source": [
    "### [F09] U-Plot of correlation coefficients between proteomics and transcriptomics + correlation significance \n",
    "\n",
    "'U-Plot': Volcanoplot of protein-transcriptome correlation coefficient for each protein. Adjusted p-value is preferred. "
   ]
  },
  {
   "cell_type": "code",
   "execution_count": 4,
   "metadata": {},
   "outputs": [],
   "source": [
    "marker_ids = pd.read_csv(\"./marker_ids.csv\", header = None, sep = \"\\t\", names = [\"gene\", \"id\"])\n",
    "gene_to_id = {k : v for k, v in zip(marker_ids['gene'], marker_ids['id'])}\n",
    "id_to_gene = {k : v for k, v in zip(marker_ids['id'], marker_ids['gene'])}"
   ]
  },
  {
   "cell_type": "code",
   "execution_count": 8,
   "metadata": {},
   "outputs": [
    {
     "ename": "AttributeError",
     "evalue": "type object 'Utils' has no attribute 'new_volcano'",
     "output_type": "error",
     "traceback": [
      "\u001b[0;31m---------------------------------------------------------------------------\u001b[0m",
      "\u001b[0;31mAttributeError\u001b[0m                            Traceback (most recent call last)",
      "\u001b[1;32m/Users/vincenthbrennsteiner/Documents/mann_labs/_git_repositories/projects/collaborations/IsletsOmics/figure_notebooks/F09.ipynb Cell 4\u001b[0m line \u001b[0;36m3\n\u001b[1;32m     <a href='vscode-notebook-cell:/Users/vincenthbrennsteiner/Documents/mann_labs/_git_repositories/projects/collaborations/IsletsOmics/figure_notebooks/F09.ipynb#W3sZmlsZQ%3D%3D?line=30'>31</a>\u001b[0m pairwise_correlation_df[\u001b[39m'\u001b[39m\u001b[39mgene\u001b[39m\u001b[39m'\u001b[39m] \u001b[39m=\u001b[39m pairwise_correlation_df[\u001b[39m'\u001b[39m\u001b[39mprotein\u001b[39m\u001b[39m'\u001b[39m]\u001b[39m.\u001b[39mmap(id_to_gene, na_action \u001b[39m=\u001b[39m \u001b[39m'\u001b[39m\u001b[39mignore\u001b[39m\u001b[39m'\u001b[39m)\n\u001b[1;32m     <a href='vscode-notebook-cell:/Users/vincenthbrennsteiner/Documents/mann_labs/_git_repositories/projects/collaborations/IsletsOmics/figure_notebooks/F09.ipynb#W3sZmlsZQ%3D%3D?line=32'>33</a>\u001b[0m \u001b[39m# Add gene names\u001b[39;00m\n\u001b[1;32m     <a href='vscode-notebook-cell:/Users/vincenthbrennsteiner/Documents/mann_labs/_git_repositories/projects/collaborations/IsletsOmics/figure_notebooks/F09.ipynb#W3sZmlsZQ%3D%3D?line=33'>34</a>\u001b[0m \n\u001b[1;32m     <a href='vscode-notebook-cell:/Users/vincenthbrennsteiner/Documents/mann_labs/_git_repositories/projects/collaborations/IsletsOmics/figure_notebooks/F09.ipynb#W3sZmlsZQ%3D%3D?line=34'>35</a>\u001b[0m \u001b[39m# visualize in scatterplot\u001b[39;00m\n\u001b[0;32m---> <a href='vscode-notebook-cell:/Users/vincenthbrennsteiner/Documents/mann_labs/_git_repositories/projects/collaborations/IsletsOmics/figure_notebooks/F09.ipynb#W3sZmlsZQ%3D%3D?line=35'>36</a>\u001b[0m f, a, _ \u001b[39m=\u001b[39m Utils\u001b[39m.\u001b[39;49mnew_volcano(\n\u001b[1;32m     <a href='vscode-notebook-cell:/Users/vincenthbrennsteiner/Documents/mann_labs/_git_repositories/projects/collaborations/IsletsOmics/figure_notebooks/F09.ipynb#W3sZmlsZQ%3D%3D?line=36'>37</a>\u001b[0m     data \u001b[39m=\u001b[39m pairwise_correlation_df,\n\u001b[1;32m     <a href='vscode-notebook-cell:/Users/vincenthbrennsteiner/Documents/mann_labs/_git_repositories/projects/collaborations/IsletsOmics/figure_notebooks/F09.ipynb#W3sZmlsZQ%3D%3D?line=37'>38</a>\u001b[0m     x_col \u001b[39m=\u001b[39m \u001b[39m'\u001b[39m\u001b[39mr\u001b[39m\u001b[39m'\u001b[39m,\n\u001b[1;32m     <a href='vscode-notebook-cell:/Users/vincenthbrennsteiner/Documents/mann_labs/_git_repositories/projects/collaborations/IsletsOmics/figure_notebooks/F09.ipynb#W3sZmlsZQ%3D%3D?line=38'>39</a>\u001b[0m     y_col \u001b[39m=\u001b[39m \u001b[39m'\u001b[39m\u001b[39mp\u001b[39m\u001b[39m'\u001b[39m,\n\u001b[1;32m     <a href='vscode-notebook-cell:/Users/vincenthbrennsteiner/Documents/mann_labs/_git_repositories/projects/collaborations/IsletsOmics/figure_notebooks/F09.ipynb#W3sZmlsZQ%3D%3D?line=39'>40</a>\u001b[0m     neg_log10_y \u001b[39m=\u001b[39m \u001b[39mTrue\u001b[39;00m,\n\u001b[1;32m     <a href='vscode-notebook-cell:/Users/vincenthbrennsteiner/Documents/mann_labs/_git_repositories/projects/collaborations/IsletsOmics/figure_notebooks/F09.ipynb#W3sZmlsZQ%3D%3D?line=40'>41</a>\u001b[0m     selected_labels \u001b[39m=\u001b[39m \u001b[39mlist\u001b[39m(marker_ids[\u001b[39m'\u001b[39m\u001b[39mid\u001b[39m\u001b[39m'\u001b[39m]\u001b[39m.\u001b[39mvalues),\n\u001b[1;32m     <a href='vscode-notebook-cell:/Users/vincenthbrennsteiner/Documents/mann_labs/_git_repositories/projects/collaborations/IsletsOmics/figure_notebooks/F09.ipynb#W3sZmlsZQ%3D%3D?line=41'>42</a>\u001b[0m     label_display_col \u001b[39m=\u001b[39m \u001b[39m'\u001b[39m\u001b[39mgene\u001b[39m\u001b[39m'\u001b[39m,\n\u001b[1;32m     <a href='vscode-notebook-cell:/Users/vincenthbrennsteiner/Documents/mann_labs/_git_repositories/projects/collaborations/IsletsOmics/figure_notebooks/F09.ipynb#W3sZmlsZQ%3D%3D?line=42'>43</a>\u001b[0m     label_lookup_col \u001b[39m=\u001b[39m \u001b[39m'\u001b[39m\u001b[39mprotein\u001b[39m\u001b[39m'\u001b[39m,\n\u001b[1;32m     <a href='vscode-notebook-cell:/Users/vincenthbrennsteiner/Documents/mann_labs/_git_repositories/projects/collaborations/IsletsOmics/figure_notebooks/F09.ipynb#W3sZmlsZQ%3D%3D?line=43'>44</a>\u001b[0m     lim_lower \u001b[39m=\u001b[39m \u001b[39m-\u001b[39m\u001b[39m0.75\u001b[39m,\n\u001b[1;32m     <a href='vscode-notebook-cell:/Users/vincenthbrennsteiner/Documents/mann_labs/_git_repositories/projects/collaborations/IsletsOmics/figure_notebooks/F09.ipynb#W3sZmlsZQ%3D%3D?line=44'>45</a>\u001b[0m     lim_upper \u001b[39m=\u001b[39m \u001b[39m0.75\u001b[39m,\n\u001b[1;32m     <a href='vscode-notebook-cell:/Users/vincenthbrennsteiner/Documents/mann_labs/_git_repositories/projects/collaborations/IsletsOmics/figure_notebooks/F09.ipynb#W3sZmlsZQ%3D%3D?line=45'>46</a>\u001b[0m     y_threshold \u001b[39m=\u001b[39m \u001b[39m-\u001b[39mnp\u001b[39m.\u001b[39mlog10(\u001b[39m0.05\u001b[39m),\n\u001b[1;32m     <a href='vscode-notebook-cell:/Users/vincenthbrennsteiner/Documents/mann_labs/_git_repositories/projects/collaborations/IsletsOmics/figure_notebooks/F09.ipynb#W3sZmlsZQ%3D%3D?line=46'>47</a>\u001b[0m     max_labels \u001b[39m=\u001b[39m \u001b[39m0\u001b[39m,\n\u001b[1;32m     <a href='vscode-notebook-cell:/Users/vincenthbrennsteiner/Documents/mann_labs/_git_repositories/projects/collaborations/IsletsOmics/figure_notebooks/F09.ipynb#W3sZmlsZQ%3D%3D?line=47'>48</a>\u001b[0m     title \u001b[39m=\u001b[39m ct,\n\u001b[1;32m     <a href='vscode-notebook-cell:/Users/vincenthbrennsteiner/Documents/mann_labs/_git_repositories/projects/collaborations/IsletsOmics/figure_notebooks/F09.ipynb#W3sZmlsZQ%3D%3D?line=48'>49</a>\u001b[0m     xlabel \u001b[39m=\u001b[39m \u001b[39m\"\u001b[39m\u001b[39mPCC (Proteomics/RNAseq)\u001b[39m\u001b[39m\"\u001b[39m,\n\u001b[1;32m     <a href='vscode-notebook-cell:/Users/vincenthbrennsteiner/Documents/mann_labs/_git_repositories/projects/collaborations/IsletsOmics/figure_notebooks/F09.ipynb#W3sZmlsZQ%3D%3D?line=49'>50</a>\u001b[0m     ylabel \u001b[39m=\u001b[39m \u001b[39mf\u001b[39m\u001b[39m\"\u001b[39m\u001b[39m-log10(p)\u001b[39m\u001b[39m\"\u001b[39m,\n\u001b[1;32m     <a href='vscode-notebook-cell:/Users/vincenthbrennsteiner/Documents/mann_labs/_git_repositories/projects/collaborations/IsletsOmics/figure_notebooks/F09.ipynb#W3sZmlsZQ%3D%3D?line=50'>51</a>\u001b[0m     dodge_labels \u001b[39m=\u001b[39m \u001b[39m'\u001b[39m\u001b[39msides\u001b[39m\u001b[39m'\u001b[39m,\n\u001b[1;32m     <a href='vscode-notebook-cell:/Users/vincenthbrennsteiner/Documents/mann_labs/_git_repositories/projects/collaborations/IsletsOmics/figure_notebooks/F09.ipynb#W3sZmlsZQ%3D%3D?line=51'>52</a>\u001b[0m     left_right_label_kwargs \u001b[39m=\u001b[39m {\n\u001b[1;32m     <a href='vscode-notebook-cell:/Users/vincenthbrennsteiner/Documents/mann_labs/_git_repositories/projects/collaborations/IsletsOmics/figure_notebooks/F09.ipynb#W3sZmlsZQ%3D%3D?line=52'>53</a>\u001b[0m         \u001b[39m'\u001b[39m\u001b[39my_spacing_factor\u001b[39m\u001b[39m'\u001b[39m : \u001b[39m1\u001b[39m,\n\u001b[1;32m     <a href='vscode-notebook-cell:/Users/vincenthbrennsteiner/Documents/mann_labs/_git_repositories/projects/collaborations/IsletsOmics/figure_notebooks/F09.ipynb#W3sZmlsZQ%3D%3D?line=53'>54</a>\u001b[0m         \u001b[39m'\u001b[39m\u001b[39mxlim_padding_factor\u001b[39m\u001b[39m'\u001b[39m : \u001b[39m0.5\u001b[39m,\n\u001b[1;32m     <a href='vscode-notebook-cell:/Users/vincenthbrennsteiner/Documents/mann_labs/_git_repositories/projects/collaborations/IsletsOmics/figure_notebooks/F09.ipynb#W3sZmlsZQ%3D%3D?line=54'>55</a>\u001b[0m         \u001b[39m'\u001b[39m\u001b[39mhighest_label_y_fraction\u001b[39m\u001b[39m'\u001b[39m : \u001b[39m0.5\u001b[39m,\n\u001b[1;32m     <a href='vscode-notebook-cell:/Users/vincenthbrennsteiner/Documents/mann_labs/_git_repositories/projects/collaborations/IsletsOmics/figure_notebooks/F09.ipynb#W3sZmlsZQ%3D%3D?line=55'>56</a>\u001b[0m     },\n\u001b[1;32m     <a href='vscode-notebook-cell:/Users/vincenthbrennsteiner/Documents/mann_labs/_git_repositories/projects/collaborations/IsletsOmics/figure_notebooks/F09.ipynb#W3sZmlsZQ%3D%3D?line=56'>57</a>\u001b[0m )\n\u001b[1;32m     <a href='vscode-notebook-cell:/Users/vincenthbrennsteiner/Documents/mann_labs/_git_repositories/projects/collaborations/IsletsOmics/figure_notebooks/F09.ipynb#W3sZmlsZQ%3D%3D?line=58'>59</a>\u001b[0m \u001b[39m# save plot\u001b[39;00m\n\u001b[1;32m     <a href='vscode-notebook-cell:/Users/vincenthbrennsteiner/Documents/mann_labs/_git_repositories/projects/collaborations/IsletsOmics/figure_notebooks/F09.ipynb#W3sZmlsZQ%3D%3D?line=59'>60</a>\u001b[0m p\u001b[39m.\u001b[39msave_figure(\n\u001b[1;32m     <a href='vscode-notebook-cell:/Users/vincenthbrennsteiner/Documents/mann_labs/_git_repositories/projects/collaborations/IsletsOmics/figure_notebooks/F09.ipynb#W3sZmlsZQ%3D%3D?line=60'>61</a>\u001b[0m     fig \u001b[39m=\u001b[39m f,\n\u001b[1;32m     <a href='vscode-notebook-cell:/Users/vincenthbrennsteiner/Documents/mann_labs/_git_repositories/projects/collaborations/IsletsOmics/figure_notebooks/F09.ipynb#W3sZmlsZQ%3D%3D?line=61'>62</a>\u001b[0m     filename \u001b[39m=\u001b[39m \u001b[39mf\u001b[39m\u001b[39m\"\u001b[39m\u001b[39mfigure_09_protein_protein_corr_volcano_\u001b[39m\u001b[39m{\u001b[39;00mct\u001b[39m}\u001b[39;00m\u001b[39m_new.svg\u001b[39m\u001b[39m\"\u001b[39m,\n\u001b[0;32m   (...)\u001b[0m\n\u001b[1;32m     <a href='vscode-notebook-cell:/Users/vincenthbrennsteiner/Documents/mann_labs/_git_repositories/projects/collaborations/IsletsOmics/figure_notebooks/F09.ipynb#W3sZmlsZQ%3D%3D?line=65'>66</a>\u001b[0m     nature_height \u001b[39m=\u001b[39m \u001b[39m\"\u001b[39m\u001b[39msingle\u001b[39m\u001b[39m\"\u001b[39m,\n\u001b[1;32m     <a href='vscode-notebook-cell:/Users/vincenthbrennsteiner/Documents/mann_labs/_git_repositories/projects/collaborations/IsletsOmics/figure_notebooks/F09.ipynb#W3sZmlsZQ%3D%3D?line=66'>67</a>\u001b[0m )\n",
      "\u001b[0;31mAttributeError\u001b[0m: type object 'Utils' has no attribute 'new_volcano'"
     ]
    }
   ],
   "source": [
    "# this has to be done per cell type!!!\n",
    "for ct in ['alpha', 'beta', 'delta']:\n",
    "\n",
    "    # select data for cell type\n",
    "    data_filtered = data.copy()\n",
    "    data_filtered = data_filtered[sample_metadata['sample'] == ct]\n",
    "    sample_metadata_filtered = sample_metadata[sample_metadata['sample'] == ct]\n",
    "\n",
    "    # filter features for 70 % data completeness\n",
    "    max_missing = 0.3\n",
    "    mval_percentage = data_filtered.isna().mean()\n",
    "    missingness = mval_percentage >= max_missing\n",
    "    data_filtered = data_filtered.loc[:, ~missingness]\n",
    "\n",
    "    # split data: proteomics\n",
    "    df_p = data_filtered[sample_metadata_filtered['readout'] == 'proteomics']\n",
    "    df_p.index = df_p.index.str.replace(\"_proteomics\", \"\")\n",
    "\n",
    "    # split data: transcriptomics\n",
    "    df_t = data_filtered[sample_metadata_filtered['readout'] == 'transcriptomics']\n",
    "    df_t.index = df_t.index.str.replace(\"_transcriptomics\", \"\")\n",
    "\n",
    "    # compute pairwise correlations: each protein's transcriptomics vs proteomics profile\n",
    "    pairwise_correlation_df = Utils.pairwise_correlation(\n",
    "        data_a = df_p,\n",
    "        data_b = df_t,\n",
    "    )\n",
    "\n",
    "    # add protein labels\n",
    "    pairwise_correlation_df['protein'] = pairwise_correlation_df.index\n",
    "    pairwise_correlation_df['gene'] = pairwise_correlation_df['protein'].map(id_to_gene, na_action = 'ignore')\n",
    "\n",
    "    # Add gene names\n",
    "\n",
    "    # # visualize in scatterplot\n",
    "    # f, a, _ = Utils.new_volcano(\n",
    "    #     data = pairwise_correlation_df,\n",
    "    #     x_col = 'r',\n",
    "    #     y_col = 'p',\n",
    "    #     neg_log10_y = True,\n",
    "    #     selected_labels = list(marker_ids['id'].values),\n",
    "    #     label_display_col = 'gene',\n",
    "    #     label_lookup_col = 'protein',\n",
    "    #     lim_lower = -0.75,\n",
    "    #     lim_upper = 0.75,\n",
    "    #     y_threshold = -np.log10(0.05),\n",
    "    #     max_labels = 0,\n",
    "    #     title = ct,\n",
    "    #     xlabel = \"PCC (Proteomics/RNAseq)\",\n",
    "    #     ylabel = f\"-log10(p)\",\n",
    "    #     dodge_labels = 'sides',\n",
    "    #     left_right_label_kwargs = {\n",
    "    #         'y_spacing_factor' : 1,\n",
    "    #         'xlim_padding_factor' : 0.5,\n",
    "    #         'highest_label_y_fraction' : 0.5,\n",
    "    #     },\n",
    "    # )\n",
    "\n",
    "    # # save plot\n",
    "    # p.save_figure(\n",
    "    #     fig = f,\n",
    "    #     filename = f\"figure_09_protein_protein_corr_volcano_{ct}_new.svg\",\n",
    "    #     output_dir = \"./assets/20250423_revision_figures/\",\n",
    "    #     dpi = 300,\n",
    "    #     nature_width = \"single\",\n",
    "    #     nature_height = \"single\",\n",
    "    # )\n"
   ]
  }
 ],
 "metadata": {
  "kernelspec": {
   "display_name": "momi_310",
   "language": "python",
   "name": "python3"
  },
  "language_info": {
   "codemirror_mode": {
    "name": "ipython",
    "version": 3
   },
   "file_extension": ".py",
   "mimetype": "text/x-python",
   "name": "python",
   "nbconvert_exporter": "python",
   "pygments_lexer": "ipython3",
   "version": "3.10.16"
  },
  "orig_nbformat": 4
 },
 "nbformat": 4,
 "nbformat_minor": 2
}
