{
 "cells": [
  {
   "cell_type": "code",
   "execution_count": null,
   "metadata": {},
   "outputs": [],
   "source": [
    "%load_ext autoreload\n",
    "%autoreload 2\n",
    "\n",
    "import sys\n",
    "\n",
    "import pandas as pd\n",
    "\n",
    "import matplotlib.pyplot as plt\n",
    "\n",
    "# get data\n",
    "data = pd.read_pickle(\"./data/datasets/islets_rna_prot_dataset.pkl\")\n",
    "sample_metadata = pd.read_pickle(\"./data/datasets/islets_rna_prot_sample_metadata.pkl\")\n",
    "feature_metadata = pd.read_pickle(\"./data/datasets/islets_rna_prot_feature_metadata.pkl\")\n",
    "\n",
    "sys.path.append(\"src.py\")\n",
    "from src import Utils"
   ]
  },
  {
   "cell_type": "markdown",
   "metadata": {},
   "source": [
    "### [F10] Phosphoproteomics \n",
    "\n",
    "Visualize phosphoproteomics differential results alongside functional score annotations\n"
   ]
  },
  {
   "cell_type": "markdown",
   "metadata": {},
   "source": []
  },
  {
   "cell_type": "markdown",
   "metadata": {},
   "source": []
  }
 ],
 "metadata": {
  "language_info": {
   "name": "python"
  },
  "orig_nbformat": 4
 },
 "nbformat": 4,
 "nbformat_minor": 2
}
