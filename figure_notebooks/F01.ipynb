{
 "cells": [
  {
   "cell_type": "code",
   "execution_count": 7,
   "metadata": {},
   "outputs": [
    {
     "name": "stdout",
     "output_type": "stream",
     "text": [
      "The autoreload extension is already loaded. To reload it, use:\n",
      "  %reload_ext autoreload\n"
     ]
    }
   ],
   "source": [
    "%load_ext autoreload\n",
    "%autoreload 2\n",
    "\n",
    "import sys\n",
    "\n",
    "import pandas as pd\n",
    " \n",
    "import matplotlib.pyplot as plt\n",
    "\n",
    "# get data\n",
    "data = pd.read_pickle(\"./data/datasets/islets_rna_prot_dataset.pkl\")\n",
    "sample_metadata = pd.read_pickle(\"./data/datasets/islets_rna_prot_sample_metadata.pkl\")\n",
    "feature_metadata = pd.read_pickle(\"./data/datasets/islets_rna_prot_feature_metadata.pkl\")\n",
    "\n",
    "sys.path.append(\"src.py\")\n",
    "from src import Utils"
   ]
  },
  {
   "cell_type": "markdown",
   "metadata": {},
   "source": [
    "### [F01] Supplementary figure on CVs:\n",
    "\n",
    "Inter-replicate precision for proteomics and transcriptomics data. Both measurements are expected to show high precision between biological replicates."
   ]
  },
  {
   "cell_type": "code",
   "execution_count": 12,
   "metadata": {},
   "outputs": [
    {
     "name": "stdout",
     "output_type": "stream",
     "text": [
      "3273 proteins with 100 % data completeness.\n"
     ]
    },
    {
     "data": {
      "image/png": "[encoded data removed]",
      "text/plain": [
       "<Figure size 500x200 with 2 Axes>"
      ]
     },
     "metadata": {},
     "output_type": "display_data"
    },
    {
     "data": {
      "image/png": "[encoded data removed]",
      "text/plain": [
       "<Figure size 200x50 with 1 Axes>"
      ]
     },
     "metadata": {},
     "output_type": "display_data"
    }
   ],
   "source": [
    "def fig_01_inter_replicate_data(\n",
    "        data : pd.DataFrame = None,\n",
    "        sample_metadata: pd.DataFrame = None,\n",
    "):\n",
    "\n",
    "    # reverse log2 transformation‚\n",
    "    data = 2**data\n",
    "\n",
    "    # restrict to basically 100 % data completeness for fair comparison\n",
    "    max_missing = 0.00001\n",
    "    mval_percentage = data.isna().mean()\n",
    "    missingness = mval_percentage >= max_missing\n",
    "    data = data.loc[:, ~missingness]\n",
    "    print(f'{data.shape[1]} proteins with 100 % data completeness.')\n",
    "\n",
    "    # calculate inter-replicate CVs for each protein in each cell type\n",
    "    readouts = ['proteomics', 'transcriptomics']\n",
    "    samples = ['alpha', 'beta', 'delta']\n",
    "    treatment = ['control', 'ifng']\n",
    "\n",
    "    # iterate over conditions and filter\n",
    "    cv_dataframes = []\n",
    "    for readout in readouts:\n",
    "        for sample in samples:\n",
    "            for treat in treatment:\n",
    "                \n",
    "                # filter data\n",
    "                idxs = sample_metadata[\n",
    "                    (sample_metadata['sample'] == sample) & \n",
    "                    (sample_metadata['readout'] == readout) & \n",
    "                    (sample_metadata['treat'] == treat)].index\n",
    "                \n",
    "                # compute CVs: CV = std/mean\n",
    "                dfi = data.loc[idxs]\n",
    "\n",
    "                # check for the presence of all replicates\n",
    "                if dfi.shape[0] != 3:\n",
    "                    raise ValueError(f\"Not all 3 replicates present!: {sample}, {treat}, {readout}\")\n",
    "                \n",
    "                # calculate CV across all proteins\n",
    "                cv = dfi.std(axis = 0) / dfi.mean(axis = 0)\n",
    "                cv.name = f'{sample}_{treat}_{readout}_cv'\n",
    "\n",
    "                # append to list\n",
    "                cv_dataframes.append(cv)\n",
    "\n",
    "    # concatenate and return\n",
    "    cv_df = pd.concat(cv_dataframes, axis = 1).T\n",
    "\n",
    "    return cv_df\n",
    "                \n",
    "# visualize as boxplot\n",
    "def fig_01_inter_replicate_boxplots(cv_df):\n",
    "\n",
    "    cv_df = cv_df.copy()\n",
    "\n",
    "    # parse index to different metadata values\n",
    "    cv_md = pd.DataFrame({'identifier' : cv_df.index.tolist()}, index = cv_df.index)\n",
    "    cv_md['sample'] = cv_md['identifier'].str.split('_').str[0]\n",
    "    cv_md['treat'] = cv_md['identifier'].str.split('_').str[1]\n",
    "    cv_md['readout'] = cv_md['identifier'].str.split('_').str[2]\n",
    "    cv_md.drop('identifier', inplace = True, axis = 1)\n",
    "\n",
    "    # melt cv_df to have two three columns: identifier, protein, CV\n",
    "    cv_df['identifier'] = cv_df.index\n",
    "    cv_df_melted = cv_df.melt(id_vars = 'identifier', var_name = 'protein', value_name = 'cv')\n",
    "    cv_df_melted = cv_df_melted.set_index('identifier', drop = False)\n",
    "\n",
    "    # align melted datasets\n",
    "    cv_df_melted, cv_md_melted = cv_df_melted.align(cv_md, axis = 0)\n",
    "\n",
    "    # cleaning plot labels\n",
    "    def clean_xlab(l):\n",
    "        l = l.replace('_cv', '')\n",
    "        l = l.replace('_', ' ')\n",
    "        l = l.replace('proteomics', '')\n",
    "        l = l.replace('transcriptomics', '')\n",
    "        return l\n",
    "    \n",
    "    label_parse_dict = {\n",
    "        '_facet: single': 'CV across replicates',\n",
    "        'identifier' : '',\n",
    "        'cv' : 'CV (N = 3)',\n",
    "        'readout: proteomics' : 'Proteomics',\n",
    "        'readout: transcriptomics' : 'Transcriptomics',}\n",
    "\n",
    "    # coloring\n",
    "    cv_df_melted['color_col'] = 'grey'\n",
    "\n",
    "    # boxplot\n",
    "    f, a = Utils.boxplot(\n",
    "        data = cv_df_melted,\n",
    "        metadata = cv_md_melted,\n",
    "        value_col = 'cv',\n",
    "        grouping_col = 'identifier',\n",
    "        subplot_col = 'readout',\n",
    "        figsize_x = 2.5,\n",
    "        figsize_y = 2,\n",
    "        label_general_regex = clean_xlab,\n",
    "        label_lookup_dict=label_parse_dict,\n",
    "        normal_jitter = 0.05,\n",
    "        highlight_lookup_column = 'protein',\n",
    "        highlight_labels_column = 'protein',\n",
    "        scatter_kwargs = {'s': 3},\n",
    "        xtick_kwargs = {'rotation': 45, 'ha' : 'right'},\n",
    "        ylim_padding = (0.2, 0),\n",
    "        single_color = 'grey'\n",
    "    )\n",
    "\n",
    "    # save plot\n",
    "    Utils.save_figure(\n",
    "        fig = f, \n",
    "        filename = f\"fig_01.svg\",\n",
    "        output_dir = \"./assets/20250423_revision_figures\",\n",
    "        dpi = 300,\n",
    "        paper_width = \"double\",\n",
    "        paper_height = \"0.75\",\n",
    "    )\n",
    "    \n",
    "sf_5_cvdf = fig_01_inter_replicate_data(data, sample_metadata)\n",
    "fig_01_inter_replicate_boxplots(sf_5_cvdf)\n",
    "\n",
    "# show mean CVs\n",
    "p_cvs = sf_5_cvdf[sf_5_cvdf.index.str.contains('proteomics')].mean(axis = 1).mean()\n",
    "t_cvs = sf_5_cvdf[sf_5_cvdf.index.str.contains('transcriptomics')].mean(axis = 1).mean()\n",
    "\n",
    "# save numbers\n",
    "fig, ax = plt.subplots(figsize=(2,0.5))\n",
    "ax.axis('off')\n",
    "ax.text(0.5, 0.8, f\"Mean CVs across all proteomics IDs: {round(p_cvs, 4)}\", ha='center', va='center')\n",
    "ax.text(0.5, 0.2, f\"Mean CVs across all transcriptomics IDs: {round(t_cvs, 4)}\", ha='center', va='center')\n",
    "plt.savefig(\n",
    "    \"./assets/20250423_revision_figures/fig_01_mean_cvs.svg\", \n",
    "    dpi=300, \n",
    "    bbox_inches='tight',\n",
    "    transparent=True,\n",
    ")"
   ]
  }
 ],
 "metadata": {
  "kernelspec": {
   "display_name": "momi_310",
   "language": "python",
   "name": "python3"
  },
  "language_info": {
   "codemirror_mode": {
    "name": "ipython",
    "version": 3
   },
   "file_extension": ".py",
   "mimetype": "text/x-python",
   "name": "python",
   "nbconvert_exporter": "python",
   "pygments_lexer": "ipython3",
   "version": "3.10.16"
  },
  "orig_nbformat": 4
 },
 "nbformat": 4,
 "nbformat_minor": 2
}
